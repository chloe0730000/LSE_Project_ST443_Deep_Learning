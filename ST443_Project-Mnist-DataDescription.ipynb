{
 "cells": [
  {
   "cell_type": "code",
   "execution_count": 1,
   "metadata": {},
   "outputs": [
    {
     "data": {
      "application/javascript": [
       "IPython.OutputArea.prototype._should_scroll = function(lines) {\n",
       "    return false;\n",
       "}"
      ],
      "text/plain": [
       "<IPython.core.display.Javascript object>"
      ]
     },
     "metadata": {},
     "output_type": "display_data"
    }
   ],
   "source": [
    "%%javascript\n",
    "IPython.OutputArea.prototype._should_scroll = function(lines) {\n",
    "    return false;\n",
    "}"
   ]
  },
  {
   "cell_type": "code",
   "execution_count": 2,
   "metadata": {
    "scrolled": true
   },
   "outputs": [
    {
     "name": "stderr",
     "output_type": "stream",
     "text": [
      "/Users/lin/anaconda3/lib/python3.6/importlib/_bootstrap.py:219: RuntimeWarning: compiletime version 3.5 of module 'tensorflow.python.framework.fast_tensor_util' does not match runtime version 3.6\n",
      "  return f(*args, **kwds)\n"
     ]
    },
    {
     "name": "stdout",
     "output_type": "stream",
     "text": [
      "Extracting MNIST_data/train-images-idx3-ubyte.gz\n",
      "Extracting MNIST_data/train-labels-idx1-ubyte.gz\n",
      "Extracting MNIST_data/t10k-images-idx3-ubyte.gz\n",
      "Extracting MNIST_data/t10k-labels-idx1-ubyte.gz\n"
     ]
    }
   ],
   "source": [
    "# Import Data\n",
    "import tensorflow as tf\n",
    "import numpy as np\n",
    "from __future__ import print_function\n",
    "\n",
    "from tensorflow.examples.tutorials.mnist import input_data\n",
    "mnist = input_data.read_data_sets('MNIST_data/', one_hot=True)"
   ]
  },
  {
   "cell_type": "markdown",
   "metadata": {},
   "source": [
    "# Data Description"
   ]
  },
  {
   "cell_type": "code",
   "execution_count": 3,
   "metadata": {},
   "outputs": [
    {
     "name": "stdout",
     "output_type": "stream",
     "text": [
      "Train dataset without label: (55000, 784)\n",
      "Train dataset label in one-hot vectors form: (55000, 10)\n",
      "Test dataset without label: (10000, 784)\n",
      "Test dataset label in one-hot vectors form: (10000, 10)\n",
      "Validation dataset without label: (5000, 784)\n",
      "Validation dataset label in one-hot vectors form: (5000, 10)\n"
     ]
    }
   ],
   "source": [
    "# train dataset\n",
    "print('Train dataset without label:', mnist.train.images.shape) \n",
    "print('Train dataset label in one-hot vectors form:', mnist.train.labels.shape) \n",
    "\n",
    "# test dataset\n",
    "print('Test dataset without label:', mnist.test.images.shape) \n",
    "print('Test dataset label in one-hot vectors form:', mnist.test.labels.shape) \n",
    "\n",
    "# validation dataset\n",
    "print('Validation dataset without label:', mnist.validation.images.shape) \n",
    "print('Validation dataset label in one-hot vectors form:', mnist.validation.labels.shape) "
   ]
  },
  {
   "cell_type": "code",
   "execution_count": 4,
   "metadata": {
    "collapsed": true
   },
   "outputs": [],
   "source": [
    "image_size = mnist.train.images.shape[1] # 784\n",
    "labels_count = mnist.train.labels.shape[1] # 10\n",
    "image_width = image_height = np.ceil(np.sqrt(image_size)).astype(np.uint8)"
   ]
  },
  {
   "cell_type": "markdown",
   "metadata": {},
   "source": [
    "# Softmax"
   ]
  },
  {
   "cell_type": "code",
   "execution_count": 25,
   "metadata": {},
   "outputs": [
    {
     "name": "stdout",
     "output_type": "stream",
     "text": [
      "0.4037\n",
      "0.9189\n",
      "0.9225\n",
      "0.922\n",
      "0.9214\n",
      "0.9256\n",
      "0.9214\n",
      "0.9235\n",
      "0.9245\n",
      "0.9252\n",
      "0.9254\n",
      "0.9234\n",
      "0.9207\n",
      "0.9222\n",
      "0.9236\n",
      "0.9222\n",
      "0.925\n",
      "0.9267\n",
      "0.9241\n",
      "0.9243\n",
      "--- 33.25000333786011 seconds ---\n"
     ]
    }
   ],
   "source": [
    "import time\n",
    "start_time = time.time()\n",
    "x = tf.placeholder(tf.float32, [None, 784])\n",
    "W = tf.Variable(tf.zeros([784, 10]))\n",
    "b = tf.Variable(tf.zeros([10]))\n",
    "y = tf.nn.softmax(tf.matmul(x, W) + b) # predicted\n",
    "y_ = tf.placeholder(tf.float32, [None, 10]) # true\n",
    "\n",
    "cross_entropy = tf.reduce_mean(-tf.reduce_sum(y_ * tf.log(y), reduction_indices=[1])) # loss\n",
    "train_step = tf.train.GradientDescentOptimizer(0.5).minimize(cross_entropy)\n",
    "\n",
    "sess = tf.InteractiveSession()\n",
    "tf.global_variables_initializer().run()\n",
    "for i in range(20000):\n",
    "  batch_xs, batch_ys = mnist.train.next_batch(100)\n",
    "  sess.run(train_step, feed_dict={x: batch_xs, y_: batch_ys})\n",
    "  if i % 1000 == 0:\n",
    "        correct_prediction = tf.equal(tf.argmax(y, 1), tf.argmax(y_, 1))\n",
    "        accuracy = tf.reduce_mean(tf.cast(correct_prediction, tf.float32))\n",
    "        print(sess.run(accuracy, feed_dict={x: mnist.test.images, y_: mnist.test.labels}))\n",
    "print(\"--- %s seconds ---\" % (time.time() - start_time))"
   ]
  },
  {
   "cell_type": "markdown",
   "metadata": {},
   "source": [
    "# CNN\n",
    "\n",
    "---\n",
    "Neural Network Process: <br/>\n",
    "image -> convolution -> max pooling -> convolution -> max pooling -> fully connected -> fully connected -> classifier"
   ]
  },
  {
   "cell_type": "code",
   "execution_count": 7,
   "metadata": {
    "collapsed": true
   },
   "outputs": [],
   "source": [
    "def compute_accuracy(v_xs, v_ys):\n",
    "    global prediction\n",
    "    y_pre = sess.run(prediction, feed_dict={xs: v_xs, keep_prob: 1})\n",
    "    correct_prediction = tf.equal(tf.argmax(y_pre,1), tf.argmax(v_ys,1))\n",
    "    accuracy = tf.reduce_mean(tf.cast(correct_prediction, tf.float32))\n",
    "    result = sess.run(accuracy, feed_dict={xs: v_xs, ys: v_ys, keep_prob: 1})\n",
    "    return result\n",
    "\n",
    "def weight_variable(shape):\n",
    "    inital = tf.truncated_normal(shape, stddev=0.1) # create normal distribution\n",
    "    return tf.Variable(inital)\n",
    "\n",
    "def bias_variable(shape):\n",
    "    inital = tf.constant(0.1, shape=shape)\n",
    "    return tf.Variable(inital)\n",
    "\n",
    "def conv2d(x, W):\n",
    "    # x: all inputs; W: weight\n",
    "    # strides[1,x_movement,y_movement,1]: the output is the same size as the input\n",
    "    return tf.nn.conv2d(x, W, strides=[1, 1, 1, 1], padding='SAME')\n",
    "\n",
    "\n",
    "# pooling : extract the maximum value\n",
    "# [[0,3],[4,2]] => 4\n",
    "\n",
    "def max_pool_2x2(x):\n",
    "    # strides=[1,2,2,1] -> make 2(1+1_xmovement)*2(1+1_ymovement) into 1*1 -> squize the image \n",
    "    # ksize: extract info from 2*2 \n",
    "    return tf.nn.max_pool(x, ksize=[1, 2, 2, 1],\n",
    "                        strides=[1, 2, 2, 1], padding='SAME')"
   ]
  },
  {
   "cell_type": "code",
   "execution_count": 9,
   "metadata": {},
   "outputs": [
    {
     "name": "stdout",
     "output_type": "stream",
     "text": [
      "WARNING:tensorflow:From /Users/lin/anaconda3/lib/python3.6/site-packages/tensorflow/python/util/tf_should_use.py:107: initialize_all_variables (from tensorflow.python.ops.variables) is deprecated and will be removed after 2017-03-02.\n",
      "Instructions for updating:\n",
      "Use `tf.global_variables_initializer` instead.\n",
      "0.1003\n",
      "0.9682\n",
      "0.9802\n",
      "0.9838\n",
      "0.9864\n",
      "0.9873\n",
      "0.9885\n",
      "0.99\n",
      "0.9903\n",
      "0.9905\n",
      "0.991\n",
      "0.9917\n",
      "0.9914\n",
      "0.9913\n",
      "0.9924\n",
      "0.9921\n",
      "0.9923\n",
      "0.992\n",
      "0.9919\n",
      "0.9929\n",
      "--- 9000.995035886765 seconds ---\n"
     ]
    }
   ],
   "source": [
    "start_time = time.time()\n",
    "\n",
    "# Define placeholder for inputs to network\n",
    "\n",
    "## conv1 layer ##\n",
    "xs = tf.placeholder(tf.float32, [None, 784]) # 28x28\n",
    "W_conv1 = weight_variable([5, 5, 1, 32]) #patch 5x5, in channel size 1, out size 32\n",
    "b_conv1 = bias_variable([32])\n",
    "x_image = tf.reshape(xs, [-1, image_width, image_height, 1]) # -1: n_sample 1: our display image is in black/white \n",
    "h_conv1 = tf.nn.relu(conv2d(x_image, W_conv1) + b_conv1) # outpt size of h_convl will be 28*28*32\n",
    "h_pool1 = max_pool_2x2(h_conv1) # output size of h_pool will be 14*14*32\n",
    "\n",
    "## conv2 layer ##\n",
    "W_conv2 = weight_variable([5, 5, 32, 64]) #patch 5x5, in channel size 32, out size 64\n",
    "b_conv2 = bias_variable([64])\n",
    "h_conv2 = tf.nn.relu(conv2d(h_pool1, W_conv2) + b_conv2) # outpt size of h_convl will be 14*14*64\n",
    "h_pool2 = max_pool_2x2(h_conv2) # output size of h_pool will be 7*7*64\n",
    "\n",
    "## fc1 layer ##\n",
    "W_fc1 = weight_variable([7*7*64, 1024])\n",
    "b_fc1 = bias_variable([1024])\n",
    "h_pool2_flat = tf.reshape(h_pool2, [-1, 7*7*64]) #[n_samples, 7,7,64]  => [n_samples, 7*7*64]\n",
    "h_fc1 = tf.nn.relu(tf.matmul(h_pool2_flat, W_fc1) + b_fc1)\n",
    "\n",
    "keep_prob = tf.placeholder(tf.float32)\n",
    "h_fc1_drop = tf.nn.dropout(h_fc1, keep_prob)\n",
    "\n",
    "## output layer ##\n",
    "W_fc2 = weight_variable([1024, labels_count]) #labels_count: contains 0-9\n",
    "b_fc2 = bias_variable([10])\n",
    "prediction = tf.nn.softmax(tf.matmul(h_fc1_drop, W_fc2) + b_fc2)\n",
    "ys = tf.placeholder(tf.float32, [None, 10])\n",
    "\n",
    "# Evaluation\n",
    "cross_entropy = tf.reduce_mean(-tf.reduce_sum(ys * tf.log(prediction), reduction_indices=[1]))\n",
    "train_step = tf.train.AdamOptimizer(1e-4).minimize(cross_entropy)\n",
    "\n",
    "sess = tf.Session()\n",
    "sess.run(tf.initialize_all_variables())\n",
    "for i in range(20000):\n",
    "    batch_xs, batch_ys = mnist.train.next_batch(100)\n",
    "    sess.run(train_step, feed_dict={xs: batch_xs, ys: batch_ys, keep_prob:0.5})\n",
    "    if i % 1000 == 0:\n",
    "        print(compute_accuracy(\n",
    "            mnist.test.images, mnist.test.labels))\n",
    "\n",
    "print(\"--- %s seconds ---\" % (time.time() - start_time))"
   ]
  },
  {
   "cell_type": "code",
   "execution_count": 22,
   "metadata": {},
   "outputs": [
    {
     "data": {
      "image/png": "[encoded data removed]",
      "text/plain": [
       "<matplotlib.figure.Figure at 0x1a3b064f98>"
      ]
     },
     "metadata": {},
     "output_type": "display_data"
    }
   ],
   "source": [
    "x = np.arange(1000, 21000, 1000)\n",
    "y = np.array([\n",
    "0.160,\n",
    "0.940,\n",
    "0.980,\n",
    "0.980,\n",
    "0.980,\n",
    "1.000,\n",
    "1.000,\n",
    "0.980,\n",
    "1.000,\n",
    "1.000,\n",
    "1.000,\n",
    "1.000,\n",
    "1.000,\n",
    "0.980,\n",
    "1.000,\n",
    "1.000,\n",
    "1.000,\n",
    "1.000,\n",
    "1.000,\n",
    "1.000\n",
    "])\n",
    "plt.subplots(figsize=(15,5))\n",
    "Train, = plt.plot(x, y, '-', label='training accuracy')\n",
    "plt.xticks(np.arange(1000, 21000, 1000))\n",
    "plt.xlim(1000,20000)\n",
    "plt.ylim(0.1,1)\n",
    "plt.yticks(np.arange(0.1,1.1,0.05))\n",
    "plt.xlabel('Number of times we train the model')\n",
    "plt.ylabel('Accuracy Rate')\n",
    "plt.title('Accuracy Rate for training and testing data (CNN)')\n",
    "\n",
    "x = np.arange(1000, 21000, 1000)\n",
    "y = np.array([\n",
    "0.1003,\n",
    "0.9682,\n",
    "0.9802,\n",
    "0.9838,\n",
    "0.9864,\n",
    "0.9873,\n",
    "0.9885,\n",
    "0.99,\n",
    "0.9903,\n",
    "0.9905,\n",
    "0.991,\n",
    "0.9917,\n",
    "0.9914,\n",
    "0.9913,\n",
    "0.9924,\n",
    "0.9921,\n",
    "0.9923,\n",
    "0.992,\n",
    "0.9919,\n",
    "0.9929])\n",
    "Test, = plt.plot(x, y, '-', label='testing accuracy')\n",
    "plt.legend(handles=[Train, Test])\n",
    "plt.show()"
   ]
  },
  {
   "cell_type": "code",
   "execution_count": 26,
   "metadata": {},
   "outputs": [
    {
     "data": {
      "image/png": "[encoded data removed]",
      "text/plain": [
       "<matplotlib.figure.Figure at 0x1a292c90b8>"
      ]
     },
     "metadata": {},
     "output_type": "display_data"
    }
   ],
   "source": [
    "x = np.arange(1000, 21000, 1000)\n",
    "y = np.array([\n",
    "0.1003,\n",
    "0.9682,\n",
    "0.9802,\n",
    "0.9838,\n",
    "0.9864,\n",
    "0.9873,\n",
    "0.9885,\n",
    "0.99,\n",
    "0.9903,\n",
    "0.9905,\n",
    "0.991,\n",
    "0.9917,\n",
    "0.9914,\n",
    "0.9913,\n",
    "0.9924,\n",
    "0.9921,\n",
    "0.9923,\n",
    "0.992,\n",
    "0.9919,\n",
    "0.9929])\n",
    "plt.subplots(figsize=(15,5))\n",
    "CNN, = plt.plot(x, y, '-', label='CNN')\n",
    "plt.xticks(np.arange(1000, 21000, 1000))\n",
    "plt.xlim(1000,20000)\n",
    "plt.ylim(0.1,1)\n",
    "plt.yticks(np.arange(0.1,1.05,0.05))\n",
    "\n",
    "plt.xlabel('Number of times we train the model')\n",
    "plt.ylabel('Accuracy Rate')\n",
    "plt.title('Accuracy Rate for testing data')\n",
    "\n",
    "\n",
    "\n",
    "x = np.arange(1000, 21000, 1000)\n",
    "y = np.array([\n",
    "0.4037,\n",
    "0.9189,\n",
    "0.9225,\n",
    "0.922,\n",
    "0.9214,\n",
    "0.9256,\n",
    "0.9214,\n",
    "0.9235,\n",
    "0.9245,\n",
    "0.9252,\n",
    "0.9254,\n",
    "0.9234,\n",
    "0.9207,\n",
    "0.9222,\n",
    "0.9236,\n",
    "0.9222,\n",
    "0.925,\n",
    "0.9267,\n",
    "0.9241,\n",
    "0.9243])\n",
    "Softmax, = plt.plot(x, y, '-', label='Softmax')\n",
    "plt.legend(handles=[CNN, Softmax])\n",
    "plt.show()"
   ]
  },
  {
   "cell_type": "markdown",
   "metadata": {},
   "source": [
    "# RandomForest"
   ]
  },
  {
   "cell_type": "code",
   "execution_count": null,
   "metadata": {
    "collapsed": true
   },
   "outputs": [],
   "source": [
    "from sklearn.ensemble import RandomForestClassifier\n",
    "from sklearn.metrics import accuracy_score\n",
    "\n",
    "clf_rf = RandomForestClassifier()\n",
    "clf_rf.fit(mnist.train.images,  mnist.train.labels)\n",
    "y_pred_rf = clf_rf.predict(mnist.test.images)\n",
    "acc_rf = accuracy_score(mnist.test.labels, y_pred_rf)\n",
    "print (\"Random Forest Accuracy: \",acc_rf)"
   ]
  },
  {
   "cell_type": "markdown",
   "metadata": {},
   "source": [
    "# KNN"
   ]
  },
  {
   "cell_type": "code",
   "execution_count": null,
   "metadata": {
    "collapsed": true
   },
   "outputs": [],
   "source": [
    "from sklearn.neighbors import KNeighborsClassifier\n",
    "clf_knn = KNeighborsClassifier()\n",
    "clf_knn.fit(mnist.train.images,  mnist.train.labels)\n",
    "y_pred_knn = clf_knn.predict(mnist.test.images)\n",
    "acc_knn = accuracy_score(mnist.test.labels, y_pred_knn)\n",
    "print (\"nearest neighbors accuracy: \",acc_knn)"
   ]
  }
 ],
 "metadata": {
  "kernelspec": {
   "display_name": "Python 3",
   "language": "python",
   "name": "python3"
  },
  "language_info": {
   "codemirror_mode": {
    "name": "ipython",
    "version": 3
   },
   "file_extension": ".py",
   "mimetype": "text/x-python",
   "name": "python",
   "nbconvert_exporter": "python",
   "pygments_lexer": "ipython3",
   "version": "3.6.2"
  }
 },
 "nbformat": 4,
 "nbformat_minor": 2
}
