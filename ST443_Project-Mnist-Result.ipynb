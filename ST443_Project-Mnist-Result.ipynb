{
 "cells": [
  {
   "cell_type": "markdown",
   "metadata": {},
   "source": [
    "Use Kaggle sample:\n",
    "https://www.kaggle.com/kakauandme/tensorflow-deep-nn"
   ]
  },
  {
   "cell_type": "code",
   "execution_count": 1,
   "metadata": {},
   "outputs": [
    {
     "data": {
      "application/javascript": [
       "IPython.OutputArea.prototype._should_scroll = function(lines) {\n",
       "    return false;\n",
       "}"
      ],
      "text/plain": [
       "<IPython.core.display.Javascript object>"
      ]
     },
     "metadata": {},
     "output_type": "display_data"
    }
   ],
   "source": [
    "%%javascript\n",
    "IPython.OutputArea.prototype._should_scroll = function(lines) {\n",
    "    return false;\n",
    "}"
   ]
  },
  {
   "cell_type": "markdown",
   "metadata": {},
   "source": [
    "# Deal with Data"
   ]
  },
  {
   "cell_type": "code",
   "execution_count": 2,
   "metadata": {
    "scrolled": true
   },
   "outputs": [
    {
     "name": "stderr",
     "output_type": "stream",
     "text": [
      "/Users/lin/anaconda3/lib/python3.6/importlib/_bootstrap.py:219: RuntimeWarning: compiletime version 3.5 of module 'tensorflow.python.framework.fast_tensor_util' does not match runtime version 3.6\n",
      "  return f(*args, **kwds)\n"
     ]
    },
    {
     "name": "stdout",
     "output_type": "stream",
     "text": [
      "Extracting MNIST_data/train-images-idx3-ubyte.gz\n",
      "Extracting MNIST_data/train-labels-idx1-ubyte.gz\n",
      "Extracting MNIST_data/t10k-images-idx3-ubyte.gz\n",
      "Extracting MNIST_data/t10k-labels-idx1-ubyte.gz\n"
     ]
    }
   ],
   "source": [
    "# Import Data\n",
    "import tensorflow as tf\n",
    "import numpy as np\n",
    "\n",
    "from tensorflow.examples.tutorials.mnist import input_data\n",
    "mnist = input_data.read_data_sets('MNIST_data/', one_hot=True)"
   ]
  },
  {
   "cell_type": "code",
   "execution_count": 3,
   "metadata": {},
   "outputs": [
    {
     "data": {
      "text/plain": [
       "(10000, 10)"
      ]
     },
     "execution_count": 3,
     "metadata": {},
     "output_type": "execute_result"
    }
   ],
   "source": [
    "mnist.train.images.shape # 55000, 784\n",
    "mnist.train.labels.shape # 55000, 10\n",
    "mnist.validation.images.shape # 5000, 784\n",
    "mnist.validation.labels.shape # 5000, 10\n",
    "mnist.test.images.shape # 10000, 784\n",
    "mnist.test.labels.shape  # 10000, 10"
   ]
  },
  {
   "cell_type": "code",
   "execution_count": 4,
   "metadata": {},
   "outputs": [],
   "source": [
    "image_size = mnist.train.images.shape[1] # 784\n",
    "labels_count = mnist.train.labels.shape[1] # 10\n",
    "image_width = image_height = np.ceil(np.sqrt(image_size)).astype(np.uint8)"
   ]
  },
  {
   "cell_type": "markdown",
   "metadata": {},
   "source": [
    "# Construct Neural Nework Structure\n",
    "---\n",
    "Neural Network Process: <br/>\n",
    "image -> convolution -> max pooling -> convolution -> max pooling -> fully connected -> fully connected -> classifier\n",
    "\n",
    "---\n",
    "Ref:\n",
    "* https://brohrer.mcknote.com/zh-Hant/how_machine_learning_works/how_convolutional_neural_networks_work.html\n",
    "* http://cs231n.github.io/\n",
    "* https://www.youtube.com/watch?v=tjcgL5RIdTM&list=PLXO45tsB95cKI5AIlf5TxxFPzb-0zeVZ8&index=26"
   ]
  },
  {
   "cell_type": "markdown",
   "metadata": {},
   "source": [
    "* Things should notice for Weight initialization:\n",
    "\n",
    "Note that we do not know what the final value of every weight should be in the trained network, but with proper data normalization it is reasonable to assume that approximately half of the weights will be positive and half of them will be negative. \n",
    "A reasonable-sounding idea then might be to set all the initial weights to zero, which we expect to be the “best guess” in expectation. This turns out to be a mistake, because if every neuron in the network computes the same output, then they will also all compute the same gradients during backpropagation and undergo the exact same parameter updates. In other words, there is no source of asymmetry between neurons if their weights are initialized to be the same.\n",
    "Therefore, **we still want the weights to be very close to zero, but as we have argued above, not identically zero. As a solution, it is common to initialize the weights of the neurons to small numbers and refer to doing so as symmetry breaking.**\n",
    "\n",
    "* what is weight: http://cs231n.github.io/neural-networks-1/#nn\n",
    "* concept of weight and bias: y=ax+b (a: weight; b: bias)"
   ]
  },
  {
   "cell_type": "code",
   "execution_count": 5,
   "metadata": {
    "collapsed": true
   },
   "outputs": [],
   "source": [
    "# weight initialization\n",
    "def weight_variable(shape):\n",
    "    initial = tf.truncated_normal(shape, stddev=0.1) # create normal distribution\n",
    "    return tf.Variable(initial)\n",
    "\n",
    "def bias_variable(shape):\n",
    "    initial = tf.constant(0.1, shape=shape)\n",
    "    return tf.Variable(initial)\n",
    "\n",
    "# convolution: https://morvanzhou.github.io/tutorials/machine-learning/tensorflow/5-04-CNN2/\n",
    "def conv2d(x, W):\n",
    "    # x: all inputs; W: weight\n",
    "    # strides[1,x_movement,y_movement,1]: the output is the same size as the input\n",
    "    return tf.nn.conv2d(x, W, strides=[1, 1, 1, 1], padding='SAME') \n",
    "\n",
    "# pooling : extract the maximum value\n",
    "# [[0,3],[4,2]] => 4\n",
    "\n",
    "def max_pool_2x2(x):\n",
    "    # strides=[1,2,2,1] -> make 2(1+1_xmovement)*2(1+1_ymovement) into 1*1 -> squize the image \n",
    "    # ksize: extract info from 2*2 \n",
    "    return tf.nn.max_pool(x, ksize=[1, 2, 2, 1], strides=[1, 2, 2, 1], padding='SAME')"
   ]
  },
  {
   "cell_type": "code",
   "execution_count": 6,
   "metadata": {},
   "outputs": [
    {
     "name": "stdout",
     "output_type": "stream",
     "text": [
      "WARNING:tensorflow:From /Users/lin/anaconda3/lib/python3.6/site-packages/tensorflow/python/util/tf_should_use.py:107: initialize_all_variables (from tensorflow.python.ops.variables) is deprecated and will be removed after 2017-03-02.\n",
      "Instructions for updating:\n",
      "Use `tf.global_variables_initializer` instead.\n",
      "step 0, training accuracy 0.160\n",
      "step 100, training accuracy 0.880\n",
      "step 200, training accuracy 0.920\n",
      "step 300, training accuracy 0.860\n",
      "step 400, training accuracy 0.880\n",
      "step 500, training accuracy 0.940\n",
      "step 600, training accuracy 0.960\n",
      "step 700, training accuracy 0.960\n",
      "step 800, training accuracy 0.960\n",
      "step 900, training accuracy 0.960\n",
      "step 1000, training accuracy 0.940\n",
      "step 1100, training accuracy 1.000\n",
      "step 1200, training accuracy 0.940\n",
      "step 1300, training accuracy 0.940\n",
      "step 1400, training accuracy 0.980\n",
      "step 1500, training accuracy 0.960\n",
      "step 1600, training accuracy 1.000\n",
      "step 1700, training accuracy 0.960\n",
      "step 1800, training accuracy 0.980\n",
      "step 1900, training accuracy 0.960\n",
      "step 2000, training accuracy 0.980\n",
      "step 2100, training accuracy 0.980\n",
      "step 2200, training accuracy 0.980\n",
      "step 2300, training accuracy 1.000\n",
      "step 2400, training accuracy 1.000\n",
      "step 2500, training accuracy 0.920\n",
      "step 2600, training accuracy 1.000\n",
      "step 2700, training accuracy 1.000\n",
      "step 2800, training accuracy 0.960\n",
      "step 2900, training accuracy 0.980\n",
      "step 3000, training accuracy 0.980\n",
      "step 3100, training accuracy 0.960\n",
      "step 3200, training accuracy 0.940\n",
      "step 3300, training accuracy 0.980\n",
      "step 3400, training accuracy 0.960\n",
      "step 3500, training accuracy 0.980\n",
      "step 3600, training accuracy 0.980\n",
      "step 3700, training accuracy 0.960\n",
      "step 3800, training accuracy 1.000\n",
      "step 3900, training accuracy 0.960\n",
      "step 4000, training accuracy 1.000\n",
      "step 4100, training accuracy 1.000\n",
      "step 4200, training accuracy 1.000\n",
      "step 4300, training accuracy 0.960\n",
      "step 4400, training accuracy 1.000\n",
      "step 4500, training accuracy 1.000\n",
      "step 4600, training accuracy 1.000\n",
      "step 4700, training accuracy 0.980\n",
      "step 4800, training accuracy 0.980\n",
      "step 4900, training accuracy 1.000\n",
      "step 5000, training accuracy 0.980\n",
      "step 5100, training accuracy 1.000\n",
      "step 5200, training accuracy 1.000\n",
      "step 5300, training accuracy 1.000\n",
      "step 5400, training accuracy 1.000\n",
      "step 5500, training accuracy 1.000\n",
      "step 5600, training accuracy 1.000\n",
      "step 5700, training accuracy 1.000\n",
      "step 5800, training accuracy 0.960\n",
      "step 5900, training accuracy 0.960\n",
      "step 6000, training accuracy 1.000\n",
      "step 6100, training accuracy 1.000\n",
      "step 6200, training accuracy 1.000\n",
      "step 6300, training accuracy 1.000\n",
      "step 6400, training accuracy 0.980\n",
      "step 6500, training accuracy 1.000\n",
      "step 6600, training accuracy 1.000\n",
      "step 6700, training accuracy 0.980\n",
      "step 6800, training accuracy 1.000\n",
      "step 6900, training accuracy 1.000\n",
      "step 7000, training accuracy 1.000\n",
      "step 7100, training accuracy 0.980\n",
      "step 7200, training accuracy 1.000\n",
      "step 7300, training accuracy 1.000\n",
      "step 7400, training accuracy 0.960\n",
      "step 7500, training accuracy 1.000\n",
      "step 7600, training accuracy 0.980\n",
      "step 7700, training accuracy 0.980\n",
      "step 7800, training accuracy 1.000\n",
      "step 7900, training accuracy 0.980\n",
      "step 8000, training accuracy 0.980\n",
      "step 8100, training accuracy 1.000\n",
      "step 8200, training accuracy 0.980\n",
      "step 8300, training accuracy 0.980\n",
      "step 8400, training accuracy 1.000\n",
      "step 8500, training accuracy 1.000\n",
      "step 8600, training accuracy 0.980\n",
      "step 8700, training accuracy 0.980\n",
      "step 8800, training accuracy 1.000\n",
      "step 8900, training accuracy 0.960\n",
      "step 9000, training accuracy 1.000\n",
      "step 9100, training accuracy 1.000\n",
      "step 9200, training accuracy 1.000\n",
      "step 9300, training accuracy 1.000\n",
      "step 9400, training accuracy 1.000\n",
      "step 9500, training accuracy 0.980\n",
      "step 9600, training accuracy 1.000\n",
      "step 9700, training accuracy 1.000\n",
      "step 9800, training accuracy 1.000\n",
      "step 9900, training accuracy 1.000\n",
      "step 10000, training accuracy 1.000\n",
      "step 10100, training accuracy 1.000\n",
      "step 10200, training accuracy 1.000\n",
      "step 10300, training accuracy 1.000\n",
      "step 10400, training accuracy 1.000\n",
      "step 10500, training accuracy 1.000\n",
      "step 10600, training accuracy 1.000\n",
      "step 10700, training accuracy 0.980\n",
      "step 10800, training accuracy 1.000\n",
      "step 10900, training accuracy 1.000\n",
      "step 11000, training accuracy 1.000\n",
      "step 11100, training accuracy 1.000\n",
      "step 11200, training accuracy 1.000\n",
      "step 11300, training accuracy 1.000\n",
      "step 11400, training accuracy 1.000\n",
      "step 11500, training accuracy 1.000\n",
      "step 11600, training accuracy 1.000\n",
      "step 11700, training accuracy 1.000\n",
      "step 11800, training accuracy 0.980\n",
      "step 11900, training accuracy 1.000\n",
      "step 12000, training accuracy 1.000\n",
      "step 12100, training accuracy 1.000\n",
      "step 12200, training accuracy 1.000\n",
      "step 12300, training accuracy 1.000\n",
      "step 12400, training accuracy 1.000\n",
      "step 12500, training accuracy 1.000\n",
      "step 12600, training accuracy 1.000\n",
      "step 12700, training accuracy 1.000\n",
      "step 12800, training accuracy 1.000\n",
      "step 12900, training accuracy 1.000\n",
      "step 13000, training accuracy 1.000\n",
      "step 13100, training accuracy 1.000\n",
      "step 13200, training accuracy 1.000\n",
      "step 13300, training accuracy 1.000\n",
      "step 13400, training accuracy 1.000\n",
      "step 13500, training accuracy 1.000\n",
      "step 13600, training accuracy 1.000\n",
      "step 13700, training accuracy 1.000\n",
      "step 13800, training accuracy 0.980\n",
      "step 13900, training accuracy 1.000\n",
      "step 14000, training accuracy 0.980\n",
      "step 14100, training accuracy 1.000\n",
      "step 14200, training accuracy 1.000\n",
      "step 14300, training accuracy 1.000\n",
      "step 14400, training accuracy 1.000\n",
      "step 14500, training accuracy 1.000\n",
      "step 14600, training accuracy 1.000\n",
      "step 14700, training accuracy 1.000\n",
      "step 14800, training accuracy 1.000\n",
      "step 14900, training accuracy 0.960\n",
      "step 15000, training accuracy 1.000\n",
      "step 15100, training accuracy 1.000\n",
      "step 15200, training accuracy 1.000\n",
      "step 15300, training accuracy 1.000\n",
      "step 15400, training accuracy 1.000\n",
      "step 15500, training accuracy 1.000\n",
      "step 15600, training accuracy 1.000\n",
      "step 15700, training accuracy 1.000\n",
      "step 15800, training accuracy 1.000\n",
      "step 15900, training accuracy 1.000\n",
      "step 16000, training accuracy 1.000\n",
      "step 16100, training accuracy 1.000\n",
      "step 16200, training accuracy 1.000\n",
      "step 16300, training accuracy 1.000\n",
      "step 16400, training accuracy 1.000\n",
      "step 16500, training accuracy 1.000\n",
      "step 16600, training accuracy 1.000\n",
      "step 16700, training accuracy 1.000\n",
      "step 16800, training accuracy 1.000\n",
      "step 16900, training accuracy 1.000\n",
      "step 17000, training accuracy 1.000\n",
      "step 17100, training accuracy 1.000\n",
      "step 17200, training accuracy 0.980\n",
      "step 17300, training accuracy 1.000\n",
      "step 17400, training accuracy 1.000\n",
      "step 17500, training accuracy 1.000\n",
      "step 17600, training accuracy 1.000\n",
      "step 17700, training accuracy 1.000\n",
      "step 17800, training accuracy 1.000\n",
      "step 17900, training accuracy 1.000\n",
      "step 18000, training accuracy 1.000\n",
      "step 18100, training accuracy 1.000\n",
      "step 18200, training accuracy 1.000\n",
      "step 18300, training accuracy 1.000\n",
      "step 18400, training accuracy 1.000\n",
      "step 18500, training accuracy 1.000\n",
      "step 18600, training accuracy 1.000\n",
      "step 18700, training accuracy 1.000\n",
      "step 18800, training accuracy 1.000\n",
      "step 18900, training accuracy 1.000\n",
      "step 19000, training accuracy 1.000\n",
      "step 19100, training accuracy 1.000\n",
      "step 19200, training accuracy 1.000\n",
      "step 19300, training accuracy 1.000\n",
      "step 19400, training accuracy 1.000\n",
      "step 19500, training accuracy 1.000\n",
      "step 19600, training accuracy 1.000\n",
      "step 19700, training accuracy 1.000\n",
      "step 19800, training accuracy 1.000\n",
      "step 19900, training accuracy 1.000\n",
      "test accuracy 0.9924\n"
     ]
    }
   ],
   "source": [
    "if __name__ == '__main__':\n",
    "    x = tf.placeholder(tf.float32, [None,784])\n",
    "    W_conv1 = weight_variable([5, 5, 1, 32]) # patch:5*5; in size:1; out size:32\n",
    "    b_conv1 = bias_variable([32])\n",
    "    x_image = tf.reshape(x, [-1,image_width,image_height,1]) # -1: n_sample 1: our display image is in black/white \n",
    "    h_conv1 = tf.nn.relu(conv2d(x_image, W_conv1) + b_conv1)   # outpt size of h_convl will be 28*28*32\n",
    "    h_pool1 = max_pool_2x2(h_conv1)     # output size of h_pool will be 14*14*32\n",
    "\n",
    "    W_conv2 = weight_variable([5, 5, 32, 64])\n",
    "    b_conv2 = bias_variable([64])\n",
    "    h_conv2 = tf.nn.relu(conv2d(h_pool1, W_conv2) + b_conv2) # outpt size of h_convl will be 14*14*64\n",
    "    h_pool2 = max_pool_2x2(h_conv2) # output size of h_pool will be 7*7*64\n",
    "    \n",
    "    W_fc1 = weight_variable([7 * 7 * 64, 1024])\n",
    "    b_fc1 = bias_variable([1024])\n",
    "    h_pool2_flat = tf.reshape(h_pool2, [-1, 7*7*64]) # [n_sample, 7,7,64] -> [n_sample, 7*7*64]\n",
    "    h_fc1 = tf.nn.relu(tf.matmul(h_pool2_flat, W_fc1) + b_fc1)\n",
    "    \n",
    "    keep_prob = tf.placeholder(tf.float32)\n",
    "    h_fc1_drop = tf.nn.dropout(h_fc1, keep_prob)\n",
    "\n",
    "    # Output layer\n",
    "    W_fc2 = weight_variable([1024, labels_count]) #labels_count: contains 0-9\n",
    "    b_fc2 = bias_variable([10])\n",
    "    y_conv=tf.nn.softmax(tf.matmul(h_fc1_drop, W_fc2) + b_fc2)\n",
    "    y_ = tf.placeholder(tf.float32, [None, 10])\n",
    "    \n",
    "    # Evaluation\n",
    "    # cross_entropy: https://www.tensorflow.org/get_started/mnist/beginners\n",
    "    cross_entropy = tf.reduce_mean(-tf.reduce_sum(y_ * tf.log(y_conv), reduction_indices=[1]))\n",
    "    train_step = tf.train.AdamOptimizer(1e-4).minimize(cross_entropy)\n",
    "    correct_prediction = tf.equal(tf.argmax(y_conv,1), tf.argmax(y_,1))\n",
    "    accuracy = tf.reduce_mean(tf.cast(correct_prediction, tf.float32))\n",
    "    init = tf.initialize_all_variables()\n",
    "    \n",
    "    sess = tf.Session()\n",
    "    sess.run(init)\n",
    "    \n",
    "    for i in range(20000):\n",
    "        batch_xs, batch_ys = mnist.train.next_batch(50)\n",
    "        if i%100 == 0:\n",
    "            \n",
    "            train_accuracy = accuracy.eval(session=sess,feed_dict={x:batch_xs, y_: batch_ys, keep_prob: 1.0})\n",
    "            print(\"step %d, training accuracy %.3f\"%(i, train_accuracy))\n",
    "        sess.run(train_step, feed_dict={x: batch_xs, y_: batch_ys, keep_prob: 0.5})\n",
    "    print(\"test accuracy %g\"%accuracy.eval(session=sess,feed_dict={x: mnist.test.images, y_: mnist.test.labels, keep_prob: 1.0}))"
   ]
  },
  {
   "cell_type": "markdown",
   "metadata": {},
   "source": [
    "# Pipeline (include different model) 9:06 starts -> 10:21"
   ]
  },
  {
   "cell_type": "code",
   "execution_count": 11,
   "metadata": {},
   "outputs": [
    {
     "ename": "ModuleNotFoundError",
     "evalue": "No module named 'seldon'",
     "output_type": "error",
     "traceback": [
      "\u001b[0;31m---------------------------------------------------------------------------\u001b[0m",
      "\u001b[0;31mModuleNotFoundError\u001b[0m                       Traceback (most recent call last)",
      "\u001b[0;32m<ipython-input-11-fc943eec0976>\u001b[0m in \u001b[0;36m<module>\u001b[0;34m()\u001b[0m\n\u001b[1;32m      1\u001b[0m \u001b[0;31m# install: http://docs.seldon.io/python-package.html\u001b[0m\u001b[0;34m\u001b[0m\u001b[0;34m\u001b[0m\u001b[0m\n\u001b[0;32m----> 2\u001b[0;31m \u001b[0;32mfrom\u001b[0m \u001b[0mseldon\u001b[0m\u001b[0;34m.\u001b[0m\u001b[0mtensorflow_wrapper\u001b[0m \u001b[0;32mimport\u001b[0m \u001b[0mTensorFlowWrapper\u001b[0m\u001b[0;34m\u001b[0m\u001b[0m\n\u001b[0m\u001b[1;32m      3\u001b[0m \u001b[0;32mfrom\u001b[0m \u001b[0msklearn\u001b[0m\u001b[0;34m.\u001b[0m\u001b[0mpipeline\u001b[0m \u001b[0;32mimport\u001b[0m \u001b[0mPipeline\u001b[0m\u001b[0;34m\u001b[0m\u001b[0m\n\u001b[1;32m      4\u001b[0m \u001b[0;32mfrom\u001b[0m \u001b[0mseldon\u001b[0m\u001b[0;34m.\u001b[0m\u001b[0mpipeline\u001b[0m\u001b[0;34m.\u001b[0m\u001b[0mutil\u001b[0m \u001b[0;32mimport\u001b[0m \u001b[0mPipeline_wrapper\u001b[0m\u001b[0;34m\u001b[0m\u001b[0m\n\u001b[1;32m      5\u001b[0m \u001b[0mtfw\u001b[0m \u001b[0;34m=\u001b[0m \u001b[0mTensorFlowWrapper\u001b[0m\u001b[0;34m(\u001b[0m\u001b[0msess\u001b[0m\u001b[0;34m,\u001b[0m\u001b[0mtf_input\u001b[0m\u001b[0;34m=\u001b[0m\u001b[0mx\u001b[0m\u001b[0;34m,\u001b[0m\u001b[0mtf_output\u001b[0m\u001b[0;34m=\u001b[0m\u001b[0my_conv\u001b[0m\u001b[0;34m,\u001b[0m\u001b[0mtf_constants\u001b[0m\u001b[0;34m=\u001b[0m\u001b[0;34m[\u001b[0m\u001b[0;34m(\u001b[0m\u001b[0mkeep_prob\u001b[0m\u001b[0;34m,\u001b[0m\u001b[0;36m1.0\u001b[0m\u001b[0;34m)\u001b[0m\u001b[0;34m]\u001b[0m\u001b[0;34m,\u001b[0m\u001b[0mtarget\u001b[0m\u001b[0;34m=\u001b[0m\u001b[0;34m\"y\"\u001b[0m\u001b[0;34m,\u001b[0m\u001b[0mtarget_readable\u001b[0m\u001b[0;34m=\u001b[0m\u001b[0;34m\"class\"\u001b[0m\u001b[0;34m,\u001b[0m\u001b[0mexcluded\u001b[0m\u001b[0;34m=\u001b[0m\u001b[0;34m[\u001b[0m\u001b[0;34m'class'\u001b[0m\u001b[0;34m]\u001b[0m\u001b[0;34m)\u001b[0m\u001b[0;34m\u001b[0m\u001b[0m\n",
      "\u001b[0;31mModuleNotFoundError\u001b[0m: No module named 'seldon'"
     ]
    }
   ],
   "source": [
    "# install: http://docs.seldon.io/python-package.html\n",
    "from seldon.tensorflow_wrapper import TensorFlowWrapper\n",
    "from sklearn.pipeline import Pipeline\n",
    "from seldon.pipeline.util import Pipeline_wrapper\n",
    "tfw = TensorFlowWrapper(sess,tf_input=x,tf_output=y_conv,tf_constants=[(keep_prob,1.0)],target=\"y\",target_readable=\"class\",excluded=['class'])\n",
    "p = Pipeline([('deep_classifier',tfw)])\n",
    "pw = Pipeline_wrapper()\n",
    "pw.save_pipeline(p,'deep_mnist_pipeline')"
   ]
  },
  {
   "cell_type": "code",
   "execution_count": null,
   "metadata": {
    "collapsed": true
   },
   "outputs": [],
   "source": []
  }
 ],
 "metadata": {
  "kernelspec": {
   "display_name": "Python 3",
   "language": "python",
   "name": "python3"
  },
  "language_info": {
   "codemirror_mode": {
    "name": "ipython",
    "version": 3
   },
   "file_extension": ".py",
   "mimetype": "text/x-python",
   "name": "python",
   "nbconvert_exporter": "python",
   "pygments_lexer": "ipython3",
   "version": "3.6.3"
  }
 },
 "nbformat": 4,
 "nbformat_minor": 2
}
